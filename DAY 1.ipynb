{
 "cells": [
  {
   "cell_type": "code",
   "execution_count": 1,
   "id": "bb9261ef",
   "metadata": {},
   "outputs": [],
   "source": [
    "def test():\n",
    "    pass"
   ]
  },
  {
   "cell_type": "code",
   "execution_count": 2,
   "id": "69f38f69",
   "metadata": {},
   "outputs": [],
   "source": [
    "def test1():\n",
    "    print(\"hii\")"
   ]
  },
  {
   "cell_type": "code",
   "execution_count": 3,
   "id": "e5f529ed",
   "metadata": {},
   "outputs": [
    {
     "name": "stdout",
     "output_type": "stream",
     "text": [
      "hii\n"
     ]
    }
   ],
   "source": [
    "test1()"
   ]
  },
  {
   "cell_type": "code",
   "execution_count": 4,
   "id": "e0d1e707",
   "metadata": {},
   "outputs": [
    {
     "name": "stdout",
     "output_type": "stream",
     "text": [
      "hii\n"
     ]
    },
    {
     "ename": "TypeError",
     "evalue": "unsupported operand type(s) for +: 'NoneType' and 'str'",
     "output_type": "error",
     "traceback": [
      "\u001b[1;31m---------------------------------------------------------------------------\u001b[0m",
      "\u001b[1;31mTypeError\u001b[0m                                 Traceback (most recent call last)",
      "Cell \u001b[1;32mIn[4], line 1\u001b[0m\n\u001b[1;32m----> 1\u001b[0m test1()\u001b[38;5;241m+\u001b[39m\u001b[38;5;124m\"\u001b[39m\u001b[38;5;124mabhipsa\u001b[39m\u001b[38;5;124m\"\u001b[39m\n",
      "\u001b[1;31mTypeError\u001b[0m: unsupported operand type(s) for +: 'NoneType' and 'str'"
     ]
    }
   ],
   "source": [
    "test1()+\"abhipsa\""
   ]
  },
  {
   "cell_type": "code",
   "execution_count": 10,
   "id": "efa0e587",
   "metadata": {},
   "outputs": [],
   "source": [
    "def test2():\n",
    "    return \"hii \""
   ]
  },
  {
   "cell_type": "code",
   "execution_count": 11,
   "id": "66ce8439",
   "metadata": {},
   "outputs": [
    {
     "data": {
      "text/plain": [
       "'hii '"
      ]
     },
     "execution_count": 11,
     "metadata": {},
     "output_type": "execute_result"
    }
   ],
   "source": [
    "test2()"
   ]
  },
  {
   "cell_type": "code",
   "execution_count": 12,
   "id": "7a4cfd6e",
   "metadata": {},
   "outputs": [
    {
     "data": {
      "text/plain": [
       "'hii abipsa'"
      ]
     },
     "execution_count": 12,
     "metadata": {},
     "output_type": "execute_result"
    }
   ],
   "source": [
    "test2()+\"abipsa\""
   ]
  },
  {
   "cell_type": "code",
   "execution_count": 13,
   "id": "79b3b076",
   "metadata": {},
   "outputs": [],
   "source": [
    "def test3():\n",
    "    return 1,4,\"pwskills\",34.46"
   ]
  },
  {
   "cell_type": "code",
   "execution_count": 14,
   "id": "ad85db96",
   "metadata": {},
   "outputs": [
    {
     "data": {
      "text/plain": [
       "(1, 4, 'pwskills', 34.46)"
      ]
     },
     "execution_count": 14,
     "metadata": {},
     "output_type": "execute_result"
    }
   ],
   "source": [
    "test3()"
   ]
  },
  {
   "cell_type": "code",
   "execution_count": 15,
   "id": "a7ea0cbd",
   "metadata": {},
   "outputs": [],
   "source": [
    "a=1,2,3,3,44"
   ]
  },
  {
   "cell_type": "code",
   "execution_count": 16,
   "id": "3a9e5a32",
   "metadata": {},
   "outputs": [
    {
     "data": {
      "text/plain": [
       "(1, 2, 3, 3, 44)"
      ]
     },
     "execution_count": 16,
     "metadata": {},
     "output_type": "execute_result"
    }
   ],
   "source": [
    "a"
   ]
  },
  {
   "cell_type": "code",
   "execution_count": 17,
   "id": "ce50c503",
   "metadata": {},
   "outputs": [],
   "source": [
    "a,b,c,d=1,2,34.46,True"
   ]
  },
  {
   "cell_type": "code",
   "execution_count": 18,
   "id": "fc0666f5",
   "metadata": {},
   "outputs": [
    {
     "data": {
      "text/plain": [
       "1"
      ]
     },
     "execution_count": 18,
     "metadata": {},
     "output_type": "execute_result"
    }
   ],
   "source": [
    "a"
   ]
  },
  {
   "cell_type": "code",
   "execution_count": 19,
   "id": "defe9d1c",
   "metadata": {},
   "outputs": [
    {
     "data": {
      "text/plain": [
       "2"
      ]
     },
     "execution_count": 19,
     "metadata": {},
     "output_type": "execute_result"
    }
   ],
   "source": [
    "b"
   ]
  },
  {
   "cell_type": "code",
   "execution_count": 20,
   "id": "4bb847bc",
   "metadata": {},
   "outputs": [
    {
     "data": {
      "text/plain": [
       "34.46"
      ]
     },
     "execution_count": 20,
     "metadata": {},
     "output_type": "execute_result"
    }
   ],
   "source": [
    "c"
   ]
  },
  {
   "cell_type": "code",
   "execution_count": 21,
   "id": "4ba59033",
   "metadata": {},
   "outputs": [
    {
     "data": {
      "text/plain": [
       "True"
      ]
     },
     "execution_count": 21,
     "metadata": {},
     "output_type": "execute_result"
    }
   ],
   "source": [
    "d"
   ]
  },
  {
   "cell_type": "code",
   "execution_count": 22,
   "id": "7aaa78c5",
   "metadata": {},
   "outputs": [
    {
     "data": {
      "text/plain": [
       "'pwskills'"
      ]
     },
     "execution_count": 22,
     "metadata": {},
     "output_type": "execute_result"
    }
   ],
   "source": [
    "test3()[2]"
   ]
  },
  {
   "cell_type": "code",
   "execution_count": 23,
   "id": "e1f763ce",
   "metadata": {},
   "outputs": [],
   "source": [
    "a,b,c,d=test3()"
   ]
  },
  {
   "cell_type": "code",
   "execution_count": 24,
   "id": "f60e474f",
   "metadata": {},
   "outputs": [
    {
     "data": {
      "text/plain": [
       "1"
      ]
     },
     "execution_count": 24,
     "metadata": {},
     "output_type": "execute_result"
    }
   ],
   "source": [
    "a"
   ]
  },
  {
   "cell_type": "code",
   "execution_count": 25,
   "id": "0ffc68ba",
   "metadata": {},
   "outputs": [
    {
     "data": {
      "text/plain": [
       "'pwskills'"
      ]
     },
     "execution_count": 25,
     "metadata": {},
     "output_type": "execute_result"
    }
   ],
   "source": [
    "c"
   ]
  },
  {
   "cell_type": "code",
   "execution_count": 26,
   "id": "80e31dba",
   "metadata": {},
   "outputs": [],
   "source": [
    "def test4():\n",
    "    a=3*4+5\n",
    "    return a"
   ]
  },
  {
   "cell_type": "code",
   "execution_count": 27,
   "id": "b2087a9b",
   "metadata": {},
   "outputs": [
    {
     "data": {
      "text/plain": [
       "int"
      ]
     },
     "execution_count": 27,
     "metadata": {},
     "output_type": "execute_result"
    }
   ],
   "source": [
    "type(test4())"
   ]
  },
  {
   "cell_type": "code",
   "execution_count": 28,
   "id": "1ef5d008",
   "metadata": {},
   "outputs": [
    {
     "data": {
      "text/plain": [
       "NoneType"
      ]
     },
     "execution_count": 28,
     "metadata": {},
     "output_type": "execute_result"
    }
   ],
   "source": [
    "type(test())"
   ]
  },
  {
   "cell_type": "code",
   "execution_count": 35,
   "id": "d32699f3",
   "metadata": {},
   "outputs": [],
   "source": [
    "def test5(a,b):\n",
    "    c=a+b\n",
    "    return c\n"
   ]
  },
  {
   "cell_type": "code",
   "execution_count": 36,
   "id": "09af0c03",
   "metadata": {},
   "outputs": [
    {
     "data": {
      "text/plain": [
       "5"
      ]
     },
     "execution_count": 36,
     "metadata": {},
     "output_type": "execute_result"
    }
   ],
   "source": [
    "test5(1,4)"
   ]
  },
  {
   "cell_type": "code",
   "execution_count": 37,
   "id": "081f0d88",
   "metadata": {},
   "outputs": [
    {
     "data": {
      "text/plain": [
       "'hi everyone'"
      ]
     },
     "execution_count": 37,
     "metadata": {},
     "output_type": "execute_result"
    }
   ],
   "source": [
    "test5(\"hi \",\"everyone\")"
   ]
  },
  {
   "cell_type": "code",
   "execution_count": 39,
   "id": "b873d791",
   "metadata": {},
   "outputs": [
    {
     "data": {
      "text/plain": [
       "[1, 2, 3, 4, 4, 5, 8, 6]"
      ]
     },
     "execution_count": 39,
     "metadata": {},
     "output_type": "execute_result"
    }
   ],
   "source": [
    "test5([1,2,3,4],[4,5,8,6])"
   ]
  },
  {
   "cell_type": "code",
   "execution_count": 40,
   "id": "ecaee847",
   "metadata": {},
   "outputs": [
    {
     "data": {
      "text/plain": [
       "'bhagwankrishan'"
      ]
     },
     "execution_count": 40,
     "metadata": {},
     "output_type": "execute_result"
    }
   ],
   "source": [
    "test5(b=\"krishan\",a=\"bhagwan\")"
   ]
  },
  {
   "cell_type": "code",
   "execution_count": 41,
   "id": "30585c3b",
   "metadata": {},
   "outputs": [],
   "source": [
    "l1=[1,2,3,4,\"f\",\"y\",[1,2,3,4,]]"
   ]
  },
  {
   "cell_type": "code",
   "execution_count": null,
   "id": "7513558c",
   "metadata": {},
   "outputs": [],
   "source": [
    "#create a function which will take list as a input and give no as final list with all the numeric value"
   ]
  },
  {
   "cell_type": "code",
   "execution_count": 42,
   "id": "a6affd2f",
   "metadata": {},
   "outputs": [],
   "source": [
    "def test6(a):\n",
    "    n=[]\n",
    "    for i in a:\n",
    "        if(type(i)==int or type(i)==float):\n",
    "            n.append(i)\n",
    "    return n"
   ]
  },
  {
   "cell_type": "code",
   "execution_count": 43,
   "id": "568f10f4",
   "metadata": {},
   "outputs": [
    {
     "data": {
      "text/plain": [
       "[1, 2, 3, 4]"
      ]
     },
     "execution_count": 43,
     "metadata": {},
     "output_type": "execute_result"
    }
   ],
   "source": [
    "test6(l1)"
   ]
  },
  {
   "cell_type": "code",
   "execution_count": 48,
   "id": "ecdc83f6",
   "metadata": {},
   "outputs": [],
   "source": [
    "def test7(a):\n",
    "    n=[]\n",
    "    for i in a:\n",
    "        if(type(a)==list):\n",
    "            for j in i:\n",
    "                if type(j)==int or type(j)==float:\n",
    "                    n.append(j)\n",
    "        else:\n",
    "            if(type(a)==int or type(a)==float):\n",
    "                n.append(i)\n",
    "    return a"
   ]
  },
  {
   "cell_type": "code",
   "execution_count": 49,
   "id": "91b2e8ff",
   "metadata": {},
   "outputs": [
    {
     "ename": "TypeError",
     "evalue": "'int' object is not iterable",
     "output_type": "error",
     "traceback": [
      "\u001b[1;31m---------------------------------------------------------------------------\u001b[0m",
      "\u001b[1;31mTypeError\u001b[0m                                 Traceback (most recent call last)",
      "Cell \u001b[1;32mIn[49], line 1\u001b[0m\n\u001b[1;32m----> 1\u001b[0m test7(l1)\n",
      "Cell \u001b[1;32mIn[48], line 5\u001b[0m, in \u001b[0;36mtest7\u001b[1;34m(a)\u001b[0m\n\u001b[0;32m      3\u001b[0m \u001b[38;5;28;01mfor\u001b[39;00m i \u001b[38;5;129;01min\u001b[39;00m a:\n\u001b[0;32m      4\u001b[0m     \u001b[38;5;28;01mif\u001b[39;00m(\u001b[38;5;28mtype\u001b[39m(a)\u001b[38;5;241m==\u001b[39m\u001b[38;5;28mlist\u001b[39m):\n\u001b[1;32m----> 5\u001b[0m         \u001b[38;5;28;01mfor\u001b[39;00m j \u001b[38;5;129;01min\u001b[39;00m i:\n\u001b[0;32m      6\u001b[0m             \u001b[38;5;28;01mif\u001b[39;00m \u001b[38;5;28mtype\u001b[39m(j)\u001b[38;5;241m==\u001b[39m\u001b[38;5;28mint\u001b[39m \u001b[38;5;129;01mor\u001b[39;00m \u001b[38;5;28mtype\u001b[39m(j)\u001b[38;5;241m==\u001b[39m\u001b[38;5;28mfloat\u001b[39m:\n\u001b[0;32m      7\u001b[0m                 n\u001b[38;5;241m.\u001b[39mappend(j)\n",
      "\u001b[1;31mTypeError\u001b[0m: 'int' object is not iterable"
     ]
    }
   ],
   "source": [
    "test7(l1)"
   ]
  },
  {
   "cell_type": "code",
   "execution_count": null,
   "id": "71a1095d",
   "metadata": {},
   "outputs": [],
   "source": []
  }
 ],
 "metadata": {
  "kernelspec": {
   "display_name": "Python 3 (ipykernel)",
   "language": "python",
   "name": "python3"
  },
  "language_info": {
   "codemirror_mode": {
    "name": "ipython",
    "version": 3
   },
   "file_extension": ".py",
   "mimetype": "text/x-python",
   "name": "python",
   "nbconvert_exporter": "python",
   "pygments_lexer": "ipython3",
   "version": "3.11.5"
  }
 },
 "nbformat": 4,
 "nbformat_minor": 5
}
